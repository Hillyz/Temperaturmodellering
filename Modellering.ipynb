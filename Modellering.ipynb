{
 "cells": [
  {
   "cell_type": "markdown",
   "metadata": {},
   "source": [
    "# 1. Hensikt\n",
    "Vi skal utforske forskjellige modeller for temperatur på jorda."
   ]
  },
  {
   "attachments": {
    "jorda_er_flat.png": {
     "image/png": "[encoded data removed]"
    }
   },
   "cell_type": "markdown",
   "metadata": {},
   "source": [
    "# 2. Teori\n",
    "Modeller er forenklede representasjoner av virkeligheten, og ingen modeller stemmer nøyaktig. Alle modeller forteller noe, men ikke alt, om et eller flere fenomener i virkeligheten. Temperaturmodellering kan være nyttig for å forutsi endring i temperatur på Jorda. I dagens moderne samfunn er dette spesielt interessant på grunn økningen av drivhusstoffer i atmosfæren som fører til global oppvarming. \n",
    "\n",
    "## Modell 1\n",
    "Først ser vi på en modell som vil kalkulere gjennomsnittlig varmestråling fra sola som treffer vertikalt på Jordens atmosfære. Vi bruker Stefan Boltzmanns metode for å regne ut stråling:\n",
    "\n",
    "$$S = \\sigma T^4$$\n",
    "\n",
    "Dersom vi bruker denne formelen til å regne ut varmestårling ved sola, vil S være stråling som blir sendt ut fra sola i $W/m^2$. $\\sigma$ er Stefan Boltzmanns konstant, og den har verdien $5,6703*10^{-8} W/(m^2K^4)$. T er temperaturen på solas overflate målt i kelvin. \n",
    "\n",
    "Fordi varmestrålingen fra sola er gitt i $W/m^2$, må vi regne ut overflaten på sola. Dette er fordi strålingen blir sendt ut fra hele overflaten. For å regne overflaten på sola, bruker vi formelen:\n",
    "\n",
    "$$ O = 4\\pi r^2$$\n",
    "\n",
    "For å finne ut av hvor mye stråling som treffer Jorda, må vi se for oss at denne strålingen beveger seg utover og danner en ny kule der radius er avstanden mellom sola og Jorda. Igjen bruker vi formelen over, men vi setter $r=1,496*10^9km$. Vi vil nå regne ut forholdet mellom disse kuleflatene for å regne ut den gjennomsnittlige strålingen $S_0$ som treffer atmosfæren. Matematisk vil dette se ut slik:\n",
    "\n",
    "$$S_0=\\frac{4\\pi r^2_{sol}}{4\\pi D^2_{sol og planet}} * varmestråling sol$$\n",
    "\n",
    "der D er distansen fra sola til Jorda, og r er radiusen til sola.\n",
    "\n",
    "Dette kan forkortes til: \n",
    "\n",
    "$$ S_0 = \\frac{r^2_{sol}}{D^2_{sol og planet}} * varmestråling sol$$\n",
    "\n",
    "Denne formelen funker fordi $S_0$ er omvendt proposjonal med D, og proposjonal med r. Jo større distanse det er mellom sola og Jorda, jo svakere er strålingen. \n",
    "\n",
    "\n",
    "## Modell 2\n",
    "Nå skal vi se på en modell som beregner gjennomsnittlig temperatur på Jorda, men vi ser bort ifra variabler som for eksempel drivhuseffekten. Derimot må vi ta hensyn til albedo som er en konstant på hvor mye stråling som blir reflektert før det kan være med på å varme opp jordoverflaten. Denne refleksjonskonstanten er på 30%, som vil si at 70% av $S_0$ vil påvirke temperaturen. Fordi sola er såpass langt unna Jorda og strålingen kun treffer den ene siden av Jorda, kan vi gå ut ifra at Jorda er en flat sirkel.\n",
    "\n",
    "![jorda_er_flat.png](attachment:jorda_er_flat.png)\n",
    "\n",
    "Det neste steget nå er å regne ut arealet til jorda, slik at vi kan få en verdi for strålingen som treffer. Matematisk blir dette:\n",
    "\n",
    "$$ A = \\pi r^2$$\n",
    "\n",
    "Fordi $S_0$ er gitt ved watt per kvadratmeter, vil vi nå faktorisere dette med arealet, i tillegg til albedo. \n",
    "\n",
    "$$ S_{jord} = S_0 * A * 0.7$$\n",
    "\n",
    "Vi har nå et uttrykk for strålingen Jorda sender ut dersom vi følger prinsippet om at $E_{inn} = E_{ut}$. Det betyr at vi nå kan bruke Stefan Boltzmanns metode for å finne et utrykk for T_\n",
    "\n",
    "$$E_{inn} = E_{ut}$$\n",
    "\n",
    "$$ S_0 * (1-albedo) * \\pi r_{jord}^2 = \\sigma * T_{jord}^4 * 4\\pi r^2 $$ \n",
    "\n",
    "$$ T = \\sqrt[4]{\\frac{S_{jord}}{4\\sigma}} $$\n",
    "\n",
    "Fordi dette ikke inkluderer drivhuseffekten, kan vi forvente at det er en god del kaldere enn den egentlige gjennomsnittstemperaturen på Jorda. \n",
    "\n",
    "\n",
    "## Modell 3\n",
    "Vi skal nå se på en forenklet modell for utviklingen av temperatur på Jorda, men vi inkluderer nå en forenklet drivhuseffekt. Her introduserer jeg en faktor $\\alpha$ som et mål på hvor mye stråling atmosfæren sender tilbake til jorda, altså drivhuseffekten. For å finne denne brukte jeg den gode gamle metoden: prøving og feiling. \n",
    "\n",
    "For å regne på temperaturen til Jorda og atmosfæren, setter jeg opp to difflikninger: én for temperaturendring på jorda og én for temperaturendring for atmosfæren. Disse er satt opp på formen:\n",
    "\n",
    "$$ T'(t) = Stråling_{inn} - Stråling_{ut}$$\n",
    "\n",
    "Fordi stråling er gitt i $W/m^2$ kan vi se på dette som det samme som endring i temperatur. Dette er fordi energi per kvadratmeter kan ses på som temperatur. En kjele med vann varmes opp fortere enn et badekar med vann, og dette er på grunn av differansen i areal. Watt er derimot energi per sekund, så vi vil altså se på dette som temperaturendring, ikke bare konstant temperatur. De to difflikningene blir da som følger:\n",
    "\n",
    "$$ T_{jord}' = \\frac{S_{jord}}{A} + \\alpha * (\\sigma*T_{atmos}^4) - \\sigma*T_{jord}^4 $$\n",
    "\n",
    "$$ T_{atmos}' = \\sigma*T_{jord}^4 - \\sigma*T_{atmos}^4 $$\n",
    "\n",
    "Jorda får stråling fra både sola og atmosfæren, og den sender kun ut stråling basert på sin egen temperatur. Atmosfæren får kun stråling fra jorda, og sender også ut stråling basert på sin egen temperatur. \n",
    "\n",
    "Etter dette gjelder det bare å regne ut difflikningene, noe vi får gjort ved å bruke Eulers metode. \n",
    "\n",
    "## Modell 45\n",
    "Denne modellen er nesten identisk med den forrige, bortsett fra at jeg introduserer to nye faktorer: $\\beta$ og $\\gamma$. $\\beta$ er et mål for andelen stråling som går rett gjennom atmosfæren, og $\\gamma$ er et mål for andelen stråling fra Jorda som atmosfæren opptar. Altså, vi går ut ifra at ikke all stråling fra Jorda blir absorbert av atmosfæren, men at noe går rett ut i verdensrommet, og at noe av strålingen fra sola blir absorbert av atmosfæren, mens noe blir absorbert av Jorda. Disse verdiene er tilnærminger/gjetninger delvis basert på denne oversikten: \n",
    "\n",
    "https://www.weather.gov/jetstream/energy\n",
    "\n",
    "Disse nye faktorene vil jo også føre til et par nye difflikninger, og de blir seende slik ut: \n",
    "\n",
    "$$ T_{jord}' = \\beta * \\frac{S_{jord}}{A} + \\alpha (\\sigma*T_{atmos}^4) - \\sigma*T_{jord}^4 $$\n",
    "\n",
    "$$ T_{atmos}' = \\gamma (\\sigma*T_{jord}^4) + (1-\\beta)*\\frac{S_{jord}}{A} - \\sigma*T_{atmos}^4 $$\n",
    "\n",
    "\n",
    "## Modell 6\n",
    "Denne modellen modellerer gjennomsnittsvarmen på Jorda hver dag gjennom et helt år. Endringen her skjer på bakgrunn av at avstanden til sola varierer. Fordi D varierer, vil det føre til at strålingen fra sola varierer, og da vil også temperaturene varierer. For å simulere bevegelsen av Jorda rundt sola, bruker jeg en cosinusfunksjon basert på punktet der D er størst og der D er minst, i en periode på 365 dager. Cosinusfunksjonen vil se slik ut:\n",
    "\n",
    "$$ f(x) = Acos(cx) + d$$\n",
    "\n",
    "$$ A = \\frac{D_{max}-D_{min}}{2} $$\n",
    "\n",
    "$$ d = \\frac{D_{max}+D_{min}}{2} $$\n",
    "\n",
    "$$ c = \\frac{2\\pi}{365} $$\n",
    "\n",
    "For hver dag i perioden, vil vi bruke den forrige modellen for temperatur på Jorda. Perioden starter på vinteren, i Januar.\n",
    "\n",
    "# 3. Resultater\n",
    "Vi ser på de ulike modellene, og plotter resultatene for temperaturendringer. \n",
    "\n",
    "## Modell 1"
   ]
  },
  {
   "cell_type": "code",
   "execution_count": 34,
   "metadata": {},
   "outputs": [
    {
     "name": "stdout",
     "output_type": "stream",
     "text": [
      "1369.3W/m^2\n"
     ]
    }
   ],
   "source": [
    "from pylab import *\n",
    "\n",
    "sigma = 5.6703e-8 #W/(m^2K^4)\n",
    "T_sol = 5778 # Temperatur på sola i K\n",
    "S_sol = sigma*(T_sol)**4 #W/m^2\n",
    "r_sol = 696340 * 1e3 #m\n",
    "D = 1.496e11 #m\n",
    "S0 = (r_sol/D)**2*S_sol #stråling som treffer jorda\n",
    "\n",
    "print(f\"{round(S0, 1)}W/m^2\")\n"
   ]
  },
  {
   "cell_type": "markdown",
   "metadata": {},
   "source": [
    "## Modell 2"
   ]
  },
  {
   "cell_type": "code",
   "execution_count": 35,
   "metadata": {},
   "outputs": [
    {
     "name": "stdout",
     "output_type": "stream",
     "text": [
      "Temperaturen blir:-18.21 °C\n"
     ]
    },
    {
     "data": {
      "image/png": "[encoded data removed]",
      "text/plain": [
       "<Figure size 432x288 with 1 Axes>"
      ]
     },
     "metadata": {
      "needs_background": "light"
     },
     "output_type": "display_data"
    }
   ],
   "source": [
    "from pylab import *\n",
    "\n",
    "sigma = 5.6703e-8 #W/(m^2K^4)\n",
    "T_sol = 5778 # Temperatur på sola i K\n",
    "S_sol = sigma*(T_sol)**4 #W/m^2\n",
    "r_sol = 696340 * 1e3 #m\n",
    "D = 1.496e11 #m\n",
    "S0 = (r_sol/D)**2*S_sol #stråling som treffer jorda\n",
    "r_jord =6371e3 #m\n",
    "albedo = 0.7 #refleksjonskonstant, (1-albedo) = 0.7\n",
    "A_jord = pi*(r_jord)**2 # Areal for flat jord (m^2)\n",
    "S_jord = S0 * albedo * A_jord # stråling jorda sender ut\n",
    "\n",
    "S = S_jord\n",
    "O = 4 * A_jord #Jordas kuleoverflate\n",
    "\n",
    "t_list = []\n",
    "T_list = []\n",
    "\n",
    "def T_der(T):\n",
    "    return (S/O) - sigma * T**4\n",
    "\n",
    "dt = 1e-3\n",
    "t_max = 3\n",
    "T = 0\n",
    "for t in arange(0, t_max, dt):\n",
    "    T += T_der(T) * dt\n",
    "    \n",
    "    t_list.append(t)\n",
    "    T_list.append(T)\n",
    "\n",
    "plot(t_list, T_list, label = \"Temperatur på Jorda\")\n",
    "legend()\n",
    "xlabel(\"tid\")\n",
    "ylabel(\"Kelvin\")\n",
    "\n",
    "print(f\"Temperaturen blir:{round(T_list[-1] - 273.15, 2)} °C\")"
   ]
  },
  {
   "cell_type": "markdown",
   "metadata": {},
   "source": [
    "## Modell 3"
   ]
  },
  {
   "cell_type": "code",
   "execution_count": 36,
   "metadata": {},
   "outputs": [
    {
     "name": "stdout",
     "output_type": "stream",
     "text": [
      "Temperaturene konvergerer på 22.72 °C\n"
     ]
    },
    {
     "data": {
      "image/png": "[encoded data removed]",
      "text/plain": [
       "<Figure size 432x288 with 1 Axes>"
      ]
     },
     "metadata": {
      "needs_background": "light"
     },
     "output_type": "display_data"
    }
   ],
   "source": [
    "from pylab import *\n",
    "\n",
    "sigma = 5.6703e-8 #W/(m^2K^4)\n",
    "T_sol = 5778 # Temperatur på sola i K\n",
    "S_sol = sigma*(T_sol)**4 #W/m^2\n",
    "r_sol = 696340 * 1e3 #m\n",
    "D = 1.496e11 #m\n",
    "S0 = (r_sol/D)**2*S_sol #stråling som treffer jorda\n",
    "r_jord =6371e3 #m\n",
    "albedo = 0.7 #refleksjonskonstant, (1-albedo) = 0.7\n",
    "A_jord = pi*(r_jord)**2 # Areal for flat jord (m^2)\n",
    "S_jord = S0 * albedo * A_jord #Stråling jorda sender ut\n",
    "\n",
    "S = S_jord\n",
    "O = 4 * A_jord #Jordas kuleoverflate\n",
    "\n",
    "alfa = 0.45 #Andel stråling atmosfæren sender tilbake til jorda \n",
    "\n",
    "t_list = []\n",
    "T_j_list = []\n",
    "T_a_list = []\n",
    "\n",
    "def T_j_der(T_j, T_a):\n",
    "    return (S / O) + alfa * sigma * T_a**4 - sigma * T_j**4\n",
    "\n",
    "def T_a_der(T_j, T_a):\n",
    "    return sigma * T_j**4 - sigma * T_a**4\n",
    "\n",
    "dt = 1e-3\n",
    "t_max = 5\n",
    "T_j = 0\n",
    "T_a = 0\n",
    "#Eulers metode :)\n",
    "for t in arange(0, t_max, dt):\n",
    "    T_j += T_j_der(T_j, T_a) * dt \n",
    "    T_a += T_a_der(T_j, T_a) * dt\n",
    "    \n",
    "    t_list.append(t)\n",
    "    T_j_list.append(T_j)\n",
    "    T_a_list.append(T_a)\n",
    "\n",
    "\n",
    "plot(t_list, T_j_list, label= \"Temperatur på Jorda\")\n",
    "plot(t_list, T_a_list, label = \"Temperatur i atmosfæren\")\n",
    "legend()\n",
    "xlabel(\"Tid\")\n",
    "ylabel(\"Kelvin\")\n",
    "print(f\"Temperaturene konvergerer på {round(T_j_list[-1] - 273.15, 2)} °C\")"
   ]
  },
  {
   "cell_type": "markdown",
   "metadata": {},
   "source": [
    "## Modell 45"
   ]
  },
  {
   "cell_type": "code",
   "execution_count": 37,
   "metadata": {},
   "outputs": [
    {
     "name": "stdout",
     "output_type": "stream",
     "text": [
      "Temperaturene konvergerer på 15.63 °C\n"
     ]
    },
    {
     "data": {
      "image/png": "[encoded data removed]",
      "text/plain": [
       "<Figure size 432x288 with 1 Axes>"
      ]
     },
     "metadata": {
      "needs_background": "light"
     },
     "output_type": "display_data"
    }
   ],
   "source": [
    "from pylab import *\n",
    "\n",
    "#Konstanter\n",
    "sigma = 5.6703e-8 #W/(m^2K^4)\n",
    "T_sol = 5778 # Temperatur på sola i K\n",
    "S_sol = sigma*(T_sol)**4 #W/m^2\n",
    "r_sol = 696340 * 1e3 #m\n",
    "D = 1.496e11 #m\n",
    "S0 = (r_sol/D)**2*S_sol #stråling som treffer jorda\n",
    "r_jord =6371e3 #m\n",
    "albedo = 0.7 #refleksjonskonstant, (1-albedo) = 0.7\n",
    "A_jord = pi*(r_jord)**2 # Areal for flat jord (m^2)\n",
    "S_jord = S0 * albedo * A_jord #Stråling jorda sender ut\n",
    "\n",
    "S = S_jord\n",
    "O = 4 * A_jord #Jordas kuleoverflate\n",
    "\n",
    "alfa = 0.45 #Andel stråling atmosfæren sender til jorda \n",
    "beta = 0.9 #Andel stråling fra sola som går gjennom atmosfæren \n",
    "gamma = 0.95#Andel stråling fra jorda som atmosfæren opptar \n",
    "\n",
    "t_list = []\n",
    "T_j_list = []\n",
    "T_a_list = []\n",
    "\n",
    "#Temperaturendring Jorda\n",
    "def T_j_der(T_j, T_a):\n",
    "    return beta*(S / O) + alfa * sigma * T_a**4 - sigma * T_j**4\n",
    "\n",
    "#Temperaturendring atmosfæren\n",
    "def T_a_der(T_j, T_a):\n",
    "    return gamma*(sigma * T_j**4) + (1-beta)*(S/O) - sigma * T_a**4\n",
    "\n",
    "dt = 1e-3\n",
    "t_max = 5\n",
    "T_j = 0\n",
    "T_a = 0\n",
    "#Eulers metode :)\n",
    "for t in arange(0, t_max, dt):\n",
    "    T_j += T_j_der(T_j, T_a) * dt \n",
    "    T_a += T_a_der(T_j, T_a) * dt\n",
    "    \n",
    "    t_list.append(t)\n",
    "    T_j_list.append(T_j)\n",
    "    T_a_list.append(T_a)\n",
    "\n",
    "plot(t_list, T_j_list, label= \"Temperatur på Jorda\")\n",
    "plot(t_list, T_a_list, label = \"Temperatur i atmosfæren\")\n",
    "legend()\n",
    "xlabel(\"Tid\")\n",
    "ylabel(\"Kelvin\")\n",
    "print(f\"Temperaturene konvergerer på {round(T_j_list[-1] - 273.15, 2)} °C\")\n",
    "\n"
   ]
  },
  {
   "cell_type": "code",
   "execution_count": 38,
   "metadata": {},
   "outputs": [
    {
     "name": "stdout",
     "output_type": "stream",
     "text": [
      "Plott for temperaturendring på jordoverflaten gjennom ett år:\n"
     ]
    },
    {
     "data": {
      "image/png": "[encoded data removed]",
      "text/plain": [
       "<Figure size 432x288 with 1 Axes>"
      ]
     },
     "metadata": {
      "needs_background": "light"
     },
     "output_type": "display_data"
    },
    {
     "name": "stdout",
     "output_type": "stream",
     "text": [
      "Den varmeste temperaturen gjennom året var: 19.38°C, etter 182 dager.\n",
      "Den varmeste kaldeste gjennom året var: 13.43°C, etter 0 dager.\n"
     ]
    }
   ],
   "source": [
    "from pylab import *\n",
    "from math import cos\n",
    "\n",
    "#Konstanter\n",
    "sigma = 5.6703e-8 #W/(m^2K^4)\n",
    "T_sol = 5778 # Temperatur på sola i K\n",
    "S_sol = sigma*(T_sol)**4 #W/m^2\n",
    "r_sol = 696340 * 1e3 #m\n",
    "r_jord =6371e3 #m\n",
    "albedo = 0.7 #refleksjonskonstant, (1-albedo) = 0.7\n",
    "A_jord = pi*(r_jord)**2 # Areal for flat jord (m^2)\n",
    "O_jord = 4 * A_jord #Jordas kuleoverflate\n",
    "O_sol = 4 * pi * r_sol**2 #Solas kuleoverflate\n",
    "\n",
    "\n",
    "\n",
    "\n",
    "def solavstand(tid):\n",
    "    D_min = 1.46e11\n",
    "    D_max = 1.52e11\n",
    "    A = (D_max - D_min)/2\n",
    "    d = (D_min + D_max)/2\n",
    "    c = (2*pi)/365\n",
    "    return A*cos(c*(tid)) + d\n",
    "    \n",
    "temp_lst = []\n",
    "dag_lst = []\n",
    "    \n",
    "\n",
    "for dag in range(0, 365):\n",
    "    avstand = solavstand(dag)\n",
    "    kuleflate_soltiljord = 4*pi*(avstand)**2 #utvidelse av solas radius til jorda for å regne ut stråling\n",
    "    S0 = (O_sol/kuleflate_soltiljord)*S_sol# Stråling som treffer jorda\n",
    "    S_jord = S0 * A_jord * albedo #w\n",
    "    S = S_jord\n",
    "    \n",
    "\n",
    "    #Alle konstantene er vilkårlige\n",
    "    alfa = 0.45 #Andel stråling atmosfæren sender til jorda \n",
    "    beta = 0.90 #Andel stråling fra sola som går gjennom atmosfæren \n",
    "    gamma = 0.95#Andel stråling fra jorda som atmosfæren opptar \n",
    "\n",
    "\n",
    "    \n",
    "    T_j_list = []\n",
    "\n",
    "    #Temperaturendring Jorda\n",
    "    def T_j_der(T_j, T_a):\n",
    "        return beta*(S / O_jord) + alfa * sigma * T_a**4 - sigma * T_j**4\n",
    "    \n",
    "\n",
    "    #Temperaturendring atmosfæren\n",
    "    def T_a_der(T_j, T_a):\n",
    "        return gamma*(sigma * T_j**4) + (1-beta)*(S/O_jord) - sigma * T_a**4\n",
    "\n",
    "    dt = 1e-3\n",
    "    t_max = 5\n",
    "    T_j = 0\n",
    "    T_a = 0\n",
    "    #Eulers metode :)\n",
    "    for t in arange(0, t_max, dt):\n",
    "        T_j += T_j_der(T_j, T_a) * dt \n",
    "        T_a += T_a_der(T_j, T_a) * dt\n",
    "\n",
    "        T_j_list.append(T_j)\n",
    "        \n",
    "        #print(f\"s: {S}\") ##NB IKKE FJERN! ESSENSIELL KODE; HJEMSØKT; FJERNER DU KOMMER GUDEN JUPITER OG TAR DEG\n",
    "        \n",
    "    \n",
    "    temp_lst.append(T_j_list[-1])\n",
    "    dag_lst.append(dag)\n",
    "    \n",
    "\n",
    "print(\"Plott for temperaturendring på jordoverflaten gjennom ett år:\")\n",
    "plot(dag_lst, temp_lst, label=\"Temperatur på Jorda\")\n",
    "legend()\n",
    "xlabel(\"Dager\")\n",
    "ylabel(\"Kelvin\")\n",
    "show()\n",
    "print(f\"Den varmeste temperaturen gjennom året var: {round(max(temp_lst)-273, 2)}°C, etter {temp_lst.index(max(temp_lst))} dager.\")\n",
    "print(f\"Den varmeste kaldeste gjennom året var: {round(min(temp_lst)-273, 2)}°C, etter {temp_lst.index(min(temp_lst))} dager.\")\n",
    "\n",
    "\n",
    "#plot(t_list, T_a_list)\n",
    "#print(T_j_list[-1] - 273.15)"
   ]
  },
  {
   "cell_type": "markdown",
   "metadata": {},
   "source": [
    "# 4. Diskusjon\n",
    "\n",
    "## Modell 1\n",
    "Her regner vi bare ut strålingen ved soloverflaten, så det er ikke noe å drøfte. \n",
    "\n",
    "## Modell 2\n",
    "Denne modellen forteller oss at temperaturen på Jordas overflate er -18 °C, men her ser vi bort ifra drivhuseffekten. Derfor kan vi si at svaret er ganske logisk, og det kan gi oss et innblikk i hvordan drivhuseffekten påvirker temperaturen på Jorda. Vi forutsetter også at all strålingen fra sola blir absorbert av jordoverflaten, noe som heller ikke er helt riktig i praksis. \n",
    "\n",
    "Denne modellen er ikke godt egnet til å modellere temperaturen på Jorda, men den kan gi oss innsikt i hvordan temperaturen på Jorda hadde vært dersom det ikke var atmosfære eller drivhuseffekt. \n",
    "\n",
    "## Modell 3\n",
    "Her ser vi en forenklet modell for drivhuseffekten, der atmosfæren reflekterer stråling tilbake til Jorda og varmer den opp ytterligere. Det er da logisk at resultatet vi får her er en god del varmere enn ved den forrige modellen. Vi forutsetter derimot fortsatt at ingen stråling fra sola blir absorbert av atmosfæren, noe som da fører til at Jorda varmes opp fortere. \n",
    "\n",
    "Dette er en bedre modell når det kommer til å modellere temperaturen på Jorda, men den er definitivt ikke optimal. Fordi den utelukker såpass mange faktorer, er den heller ikke egnet til å modellere gjennomsnittlig temperatur på Jorda. \n",
    "\n",
    "## Modell 45\n",
    "I motsetning til modell 3, inkluderer denne modellen flere faktorer. Disse går på at noe stråling går og går ikke gjennom atmosfæren. Dette gir et mer detaljert bilde av strålingen som er med på å varme opp Jorda, og er derfor også den mest nøyaktige modellen inkludert i denne rapporten. Den er langt fra perfekt, og jeg vil ikke engang påstå at den egner seg som modell for temperatur på Jorda. Dette er fordi tallene faktorene er basert på er oppnådd gjennom prøving og feiling på utkikk etter det riktige svaret. I tillegg er det fortsatt flere faktorer som er utelatt fra beregningene. \n",
    "\n",
    "## Modell 6\n",
    "Denne modellen modellerer gjennomsnittlig temperatur på Jorda gjennom et helt år. Det vi må se på først er hvordan banen til Jorda rundt sola blir modellert. Dette er gjort gjennom en cosinusfunksjon, noe som betyr at det ikke er en perfekt bane, men heller en tilnærming til ellipsen i form av en sirkel. Dette gjør allerede at modellen blir ganske unøyaktig til tider. Videre er utregningene av temperaturen hver dag bassert på den forrige modellen, så unøyaktighetene ender opp som følgefeil. Igjen virker det som om modellen ikke er egnet fordi det er for mange faktorer utelatt i tillegg til unøyaktigheter i bevegelsen til jordkloden. \n",
    "\n",
    "# Konklusjon\n",
    "Vi har modellert ulike modeller for temperatur og temperaturendring på jordoverflaten ved hjelp av fire forskjellige modeller med ulike faktorer og forventninger. Modellene er invalide fordi de er for simple og ikke basert på reelle datasett. Vi har justert parameterne for å få et tilpasset riktig svar, men det betyr ikke nødvendigvis at modellen i seg selv er korrekt. Modellene kan utvides ved å legge til flere, mer nøyaktige faktorer som gjør at temperaturen får en mer nøyaktig tilnærming. I tillegg må det være en mer nøyaktig beskrivelse av bevegelsen til Jorda i verdensrommet for å skaffe en mer nøyaktig temperaturendring basert på årstider. "
   ]
  },
  {
   "cell_type": "code",
   "execution_count": null,
   "metadata": {},
   "outputs": [],
   "source": []
  }
 ],
 "metadata": {
  "kernelspec": {
   "display_name": "Python 3",
   "language": "python",
   "name": "python3"
  },
  "language_info": {
   "codemirror_mode": {
    "name": "ipython",
    "version": 3
   },
   "file_extension": ".py",
   "mimetype": "text/x-python",
   "name": "python",
   "nbconvert_exporter": "python",
   "pygments_lexer": "ipython3",
   "version": "3.8.5"
  }
 },
 "nbformat": 4,
 "nbformat_minor": 4
}
